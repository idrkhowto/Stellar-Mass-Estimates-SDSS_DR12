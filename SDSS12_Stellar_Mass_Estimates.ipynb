{
  "nbformat": 4,
  "nbformat_minor": 0,
  "metadata": {
    "colab": {
      "provenance": [],
      "collapsed_sections": [],
      "include_colab_link": true
    },
    "kernelspec": {
      "name": "python3",
      "display_name": "Python 3"
    },
    "language_info": {
      "name": "python"
    }
  },
  "cells": [
    {
      "cell_type": "markdown",
      "metadata": {
        "id": "view-in-github",
        "colab_type": "text"
      },
      "source": [
        "<a href=\"https://colab.research.google.com/github/idrkhowto/Stellar-Mass-Estimates-SDSS_DR12/blob/main/SDSS12_Stellar_Mass_Estimates.ipynb\" target=\"_parent\"><img src=\"https://colab.research.google.com/assets/colab-badge.svg\" alt=\"Open In Colab\"/></a>"
      ]
    },
    {
      "cell_type": "code",
      "source": [
        "!pip install astropy\n",
        "\n",
        "import sys\n",
        "IN_COLAB = 'google.colab' in sys.modules\n",
        "\n",
        "if IN_COLAB:\n",
        "    !pip install astroquery\n",
        "\n",
        "#Import packages\n",
        "from astropy.io import fits\n",
        "from astropy import units\n",
        "from astropy.table import Table\n",
        "import numpy as np, pandas as pd\n",
        "\n",
        "#Astroquery is what we use to download data from SDSS\n",
        "from astropy.coordinates import SkyCoord\n",
        "from astroquery.sdss import SDSS\n",
        "from astropy import constants as const\n",
        "\n",
        "from astropy.cosmology import FlatLambdaCDM\n",
        "cosmo = FlatLambdaCDM(H0=70, Om0=0.3, Tcmb0=2.725)\n",
        "\n",
        "import pickle\n",
        "pickle.HIGHEST_PROTOCOL = 4"
      ],
      "metadata": {
        "colab": {
          "base_uri": "https://localhost:8080/"
        },
        "id": "WzjXm7TZLXEK",
        "outputId": "271b23d8-cf25-44bc-ac20-7a97ff539dfa"
      },
      "execution_count": null,
      "outputs": [
        {
          "output_type": "stream",
          "name": "stdout",
          "text": [
            "Looking in indexes: https://pypi.org/simple, https://us-python.pkg.dev/colab-wheels/public/simple/\n",
            "Requirement already satisfied: astropy in /usr/local/lib/python3.7/dist-packages (4.3.1)\n",
            "Requirement already satisfied: numpy>=1.17 in /usr/local/lib/python3.7/dist-packages (from astropy) (1.21.6)\n",
            "Requirement already satisfied: importlib-metadata in /usr/local/lib/python3.7/dist-packages (from astropy) (4.13.0)\n",
            "Requirement already satisfied: pyerfa>=1.7.3 in /usr/local/lib/python3.7/dist-packages (from astropy) (2.0.0.1)\n",
            "Requirement already satisfied: zipp>=0.5 in /usr/local/lib/python3.7/dist-packages (from importlib-metadata->astropy) (3.10.0)\n",
            "Requirement already satisfied: typing-extensions>=3.6.4 in /usr/local/lib/python3.7/dist-packages (from importlib-metadata->astropy) (4.1.1)\n",
            "Looking in indexes: https://pypi.org/simple, https://us-python.pkg.dev/colab-wheels/public/simple/\n",
            "Collecting astroquery\n",
            "  Downloading astroquery-0.4.6-py3-none-any.whl (4.5 MB)\n",
            "\u001b[K     |████████████████████████████████| 4.5 MB 7.3 MB/s \n",
            "\u001b[?25hRequirement already satisfied: html5lib>=0.999 in /usr/local/lib/python3.7/dist-packages (from astroquery) (1.0.1)\n",
            "Collecting pyvo>=1.1\n",
            "  Downloading pyvo-1.2.1-py3-none-any.whl (832 kB)\n",
            "\u001b[K     |████████████████████████████████| 832 kB 47.6 MB/s \n",
            "\u001b[?25hRequirement already satisfied: astropy>=4.0 in /usr/local/lib/python3.7/dist-packages (from astroquery) (4.3.1)\n",
            "Requirement already satisfied: numpy>=1.16 in /usr/local/lib/python3.7/dist-packages (from astroquery) (1.21.6)\n",
            "Collecting keyring>=4.0\n",
            "  Downloading keyring-23.9.3-py3-none-any.whl (35 kB)\n",
            "Requirement already satisfied: beautifulsoup4>=4.3.2 in /usr/local/lib/python3.7/dist-packages (from astroquery) (4.6.3)\n",
            "Requirement already satisfied: requests>=2.4.3 in /usr/local/lib/python3.7/dist-packages (from astroquery) (2.23.0)\n",
            "Requirement already satisfied: importlib-metadata in /usr/local/lib/python3.7/dist-packages (from astropy>=4.0->astroquery) (4.13.0)\n",
            "Requirement already satisfied: pyerfa>=1.7.3 in /usr/local/lib/python3.7/dist-packages (from astropy>=4.0->astroquery) (2.0.0.1)\n",
            "Requirement already satisfied: webencodings in /usr/local/lib/python3.7/dist-packages (from html5lib>=0.999->astroquery) (0.5.1)\n",
            "Requirement already satisfied: six>=1.9 in /usr/local/lib/python3.7/dist-packages (from html5lib>=0.999->astroquery) (1.15.0)\n",
            "Collecting SecretStorage>=3.2\n",
            "  Downloading SecretStorage-3.3.3-py3-none-any.whl (15 kB)\n",
            "Collecting jeepney>=0.4.2\n",
            "  Downloading jeepney-0.8.0-py3-none-any.whl (48 kB)\n",
            "\u001b[K     |████████████████████████████████| 48 kB 7.0 MB/s \n",
            "\u001b[?25hCollecting jaraco.classes\n",
            "  Downloading jaraco.classes-3.2.3-py3-none-any.whl (6.0 kB)\n",
            "Requirement already satisfied: typing-extensions>=3.6.4 in /usr/local/lib/python3.7/dist-packages (from importlib-metadata->astropy>=4.0->astroquery) (4.1.1)\n",
            "Requirement already satisfied: zipp>=0.5 in /usr/local/lib/python3.7/dist-packages (from importlib-metadata->astropy>=4.0->astroquery) (3.10.0)\n",
            "Requirement already satisfied: idna<3,>=2.5 in /usr/local/lib/python3.7/dist-packages (from requests>=2.4.3->astroquery) (2.10)\n",
            "Requirement already satisfied: chardet<4,>=3.0.2 in /usr/local/lib/python3.7/dist-packages (from requests>=2.4.3->astroquery) (3.0.4)\n",
            "Requirement already satisfied: certifi>=2017.4.17 in /usr/local/lib/python3.7/dist-packages (from requests>=2.4.3->astroquery) (2022.9.24)\n",
            "Requirement already satisfied: urllib3!=1.25.0,!=1.25.1,<1.26,>=1.21.1 in /usr/local/lib/python3.7/dist-packages (from requests>=2.4.3->astroquery) (1.24.3)\n",
            "Collecting cryptography>=2.0\n",
            "  Downloading cryptography-38.0.3-cp36-abi3-manylinux_2_24_x86_64.whl (4.1 MB)\n",
            "\u001b[K     |████████████████████████████████| 4.1 MB 47.9 MB/s \n",
            "\u001b[?25hRequirement already satisfied: cffi>=1.12 in /usr/local/lib/python3.7/dist-packages (from cryptography>=2.0->SecretStorage>=3.2->keyring>=4.0->astroquery) (1.15.1)\n",
            "Requirement already satisfied: pycparser in /usr/local/lib/python3.7/dist-packages (from cffi>=1.12->cryptography>=2.0->SecretStorage>=3.2->keyring>=4.0->astroquery) (2.21)\n",
            "Requirement already satisfied: more-itertools in /usr/local/lib/python3.7/dist-packages (from jaraco.classes->keyring>=4.0->astroquery) (9.0.0)\n",
            "Installing collected packages: jeepney, cryptography, SecretStorage, jaraco.classes, pyvo, keyring, astroquery\n",
            "Successfully installed SecretStorage-3.3.3 astroquery-0.4.6 cryptography-38.0.3 jaraco.classes-3.2.3 jeepney-0.8.0 keyring-23.9.3 pyvo-1.2.1\n"
          ]
        }
      ]
    },
    {
      "cell_type": "code",
      "source": [
        "#Load stellar mass estimate data from SDSS12\n",
        "\n",
        "\n",
        "#To Pandas\n",
        "#StellarMassDust_data = Table(fits.open('granada_fsps_krou_wideform_dust-v5_7_2.fits')[1].data)\n",
        "\n",
        "with fits.open('granada_fsps_krou_wideform_dust-v5_7_2.fits') as hdu:\n",
        "    StellarMassDust_data = Table(hdu[1].data)\n",
        "\n",
        "with fits.open('granada_fsps_krou_wideform_nodust-v5_7_2.fits') as hdu:\n",
        "    StellarMassNoDust_data = Table(hdu[1].data)\n",
        " \n",
        "StellarMassDust_data.field(17)\n",
        "\n",
        "StellarMassNoDust_data.field(17)"
      ],
      "metadata": {
        "colab": {
          "base_uri": "https://localhost:8080/",
          "height": 571
        },
        "id": "VWYj3YCIBrZc",
        "outputId": "26205c9b-3d95-4ca3-aacc-75a072c81f32"
      },
      "execution_count": null,
      "outputs": [
        {
          "output_type": "execute_result",
          "data": {
            "text/plain": [
              "<Column name='LOGMASS' dtype='float64' length=9147>\n",
              "11.550425187884686\n",
              "10.972085647588504\n",
              "11.216935684817576\n",
              "10.787074188676645\n",
              "10.786835620546544\n",
              "11.550410377505372\n",
              " 11.67408749249912\n",
              "10.786834650474795\n",
              " 11.55064014572245\n",
              "10.971883496657313\n",
              " 10.94307387316239\n",
              "11.217448648379897\n",
              "               ...\n",
              "11.571229828213829\n",
              "10.142905846008052\n",
              "11.747531941954426\n",
              "11.445731307756086\n",
              "10.750536282070543\n",
              "11.868354405589152\n",
              "10.773205155326023\n",
              "11.496585221459753\n",
              "12.003711432360452\n",
              "  10.7397174542089\n",
              "11.145967286036345\n",
              "11.750613105428744"
            ],
            "text/html": [
              "&lt;Column name=&apos;LOGMASS&apos; dtype=&apos;float64&apos; length=9147&gt;\n",
              "<table>\n",
              "<tr><td>11.550425187884686</td></tr>\n",
              "<tr><td>10.972085647588504</td></tr>\n",
              "<tr><td>11.216935684817576</td></tr>\n",
              "<tr><td>10.787074188676645</td></tr>\n",
              "<tr><td>10.786835620546544</td></tr>\n",
              "<tr><td>11.550410377505372</td></tr>\n",
              "<tr><td>11.67408749249912</td></tr>\n",
              "<tr><td>10.786834650474795</td></tr>\n",
              "<tr><td>11.55064014572245</td></tr>\n",
              "<tr><td>10.971883496657313</td></tr>\n",
              "<tr><td>10.94307387316239</td></tr>\n",
              "<tr><td>11.217448648379897</td></tr>\n",
              "<tr><td>...</td></tr>\n",
              "<tr><td>11.571229828213829</td></tr>\n",
              "<tr><td>10.142905846008052</td></tr>\n",
              "<tr><td>11.747531941954426</td></tr>\n",
              "<tr><td>11.445731307756086</td></tr>\n",
              "<tr><td>10.750536282070543</td></tr>\n",
              "<tr><td>11.868354405589152</td></tr>\n",
              "<tr><td>10.773205155326023</td></tr>\n",
              "<tr><td>11.496585221459753</td></tr>\n",
              "<tr><td>12.003711432360452</td></tr>\n",
              "<tr><td>10.7397174542089</td></tr>\n",
              "<tr><td>11.145967286036345</td></tr>\n",
              "<tr><td>11.750613105428744</td></tr>\n",
              "</table>"
            ]
          },
          "metadata": {},
          "execution_count": 22
        }
      ]
    },
    {
      "cell_type": "code",
      "source": [
        "import matplotlib.pyplot as plt\n",
        "import matplotlib as mpl\n",
        "\n",
        "mpl.rcParams['xtick.direction'], mpl.rcParams['ytick.direction'] = 'in', 'in'\n",
        "mpl.rcParams['xtick.major.size'], mpl.rcParams['xtick.minor.size'] = 14, 8\n",
        "mpl.rcParams['xtick.major.width'], mpl.rcParams['xtick.minor.width'] = 1.2, 0.8\n",
        "mpl.rcParams['xtick.major.pad'], mpl.rcParams['xtick.minor.pad'] = 10, 10\n",
        "mpl.rcParams['ytick.major.size'], mpl.rcParams['ytick.minor.size'] = 14, 8\n",
        "mpl.rcParams['ytick.major.width'], mpl.rcParams['ytick.minor.width'] = 1.2, 0.8\n",
        "\n",
        "plt.rc('xtick',labelsize=22)\n",
        "plt.rc('ytick',labelsize=22)"
      ],
      "metadata": {
        "id": "XZp-cVTIFEIt"
      },
      "execution_count": null,
      "outputs": []
    },
    {
      "cell_type": "code",
      "source": [
        "plt.figure(figsize=(12,8))\n",
        "plt.grid()\n",
        "#plt.xscale('log')\n",
        "#plt.yscale('log')\n",
        "\n",
        "#Mask = (StellarMassDust_data.field(17) > 0) & (StellarMassDust_data.field(17) < 100) & (StellarMassNoDust_data.field(17) > 0) & (StellarMassNoDust_data.field(17).logMass < 100))\n",
        "plt.scatter(StellarMassDust_data.field(17), StellarMassNoDust_data.field(17))\n",
        "\n",
        "plt.xlabel('Stellar Mass - Dust, dex', size = 30)\n",
        "plt.ylabel('Stellar Mass - No Dust, dex', size = 30)"
      ],
      "metadata": {
        "id": "_qyOVYFjGX1X",
        "colab": {
          "base_uri": "https://localhost:8080/",
          "height": 546
        },
        "outputId": "bf66224e-c5c9-44d6-99c0-b7c47eee50aa"
      },
      "execution_count": null,
      "outputs": [
        {
          "output_type": "execute_result",
          "data": {
            "text/plain": [
              "Text(0, 0.5, 'Stellar Mass - No Dust, dex')"
            ]
          },
          "metadata": {},
          "execution_count": 33
        },
        {
          "output_type": "display_data",
          "data": {
            "text/plain": [
              "<Figure size 864x576 with 1 Axes>"
            ],
            "image/png": "[encoded data removed]"
          },
          "metadata": {
            "needs_background": "light"
          }
        }
      ]
    }
  ]
}