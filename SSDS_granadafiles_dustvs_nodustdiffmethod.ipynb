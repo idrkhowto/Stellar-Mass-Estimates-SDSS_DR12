{
  "nbformat": 4,
  "nbformat_minor": 0,
  "metadata": {
    "colab": {
      "provenance": [],
      "name": "SSDS_granadafiles_dustvs.nodustdiffmethod",
      "include_colab_link": true
    },
    "kernelspec": {
      "name": "python3",
      "display_name": "Python 3"
    },
    "language_info": {
      "name": "python"
    }
  },
  "cells": [
    {
      "cell_type": "markdown",
      "metadata": {
        "id": "view-in-github",
        "colab_type": "text"
      },
      "source": [
        "<a href=\"https://colab.research.google.com/github/idrkhowto/Stellar-Mass-Estimates-SDSS_DR12/blob/main/SSDS_granadafiles_dustvs_nodustdiffmethod.ipynb\" target=\"_parent\"><img src=\"https://colab.research.google.com/assets/colab-badge.svg\" alt=\"Open In Colab\"/></a>"
      ]
    },
    {
      "cell_type": "code",
      "source": [
        "from google.colab import drive\n",
        "drive.mount('/content/drive')\n",
        "!ln -s \"/gdrive/My Drive/Colab\" \"/content/Colab\""
      ],
      "metadata": {
        "id": "HZrB2Kae6ii3",
        "outputId": "2c5415f1-f4c0-4376-e1e7-1d642750a6cf",
        "colab": {
          "base_uri": "https://localhost:8080/"
        }
      },
      "execution_count": 4,
      "outputs": [
        {
          "output_type": "stream",
          "name": "stdout",
          "text": [
            "Drive already mounted at /content/drive; to attempt to forcibly remount, call drive.mount(\"/content/drive\", force_remount=True).\n",
            "ln: failed to create symbolic link '/content/Colab': File exists\n"
          ]
        }
      ]
    },
    {
      "cell_type": "code",
      "source": [
        "!pip install jupyterlab\n",
        "!pip install astropy\n",
        "import sys\n",
        "IN_COLAB = 'google.colab' in sys.modules\n",
        "\n",
        "if IN_COLAB:\n",
        "    !pip install astroquery\n",
        "\n",
        "#Import packages\n",
        "from astropy.io import fits\n",
        "from astropy import units\n",
        "from astropy.table import Table\n",
        "import numpy as np, pandas as pd\n",
        "import numpy as np\n",
        "\n",
        "#Astroquery is what we use to download data from SDSS\n",
        "from astropy.coordinates import SkyCoord\n",
        "from astroquery.sdss import SDSS\n",
        "from astropy import constants as const\n",
        "\n",
        "from astropy.cosmology import FlatLambdaCDM\n",
        "cosmo = FlatLambdaCDM(H0=70, Om0=0.3, Tcmb0=2.725)\n",
        "\n",
        "import pickle\n",
        "pickle.HIGHEST_PROTOCOL = 4"
      ],
      "metadata": {
        "colab": {
          "base_uri": "https://localhost:8080/"
        },
        "id": "WzjXm7TZLXEK",
        "outputId": "52922719-ba08-46e6-fb1d-6409ccf86b50"
      },
      "execution_count": 5,
      "outputs": [
        {
          "output_type": "stream",
          "name": "stdout",
          "text": [
            "Looking in indexes: https://pypi.org/simple, https://us-python.pkg.dev/colab-wheels/public/simple/\n",
            "Requirement already satisfied: jupyterlab in /usr/local/lib/python3.8/dist-packages (3.5.1)\n",
            "Requirement already satisfied: jinja2>=2.1 in /usr/local/lib/python3.8/dist-packages (from jupyterlab) (3.1.2)\n",
            "Requirement already satisfied: tornado>=6.1.0 in /usr/local/lib/python3.8/dist-packages (from jupyterlab) (6.2)\n",
            "Requirement already satisfied: packaging in /usr/local/lib/python3.8/dist-packages (from jupyterlab) (21.3)\n",
            "Requirement already satisfied: ipython in /usr/local/lib/python3.8/dist-packages (from jupyterlab) (7.9.0)\n",
            "Requirement already satisfied: jupyterlab-server~=2.10 in /usr/local/lib/python3.8/dist-packages (from jupyterlab) (2.16.4)\n",
            "Requirement already satisfied: jupyter-server<3,>=1.16.0 in /usr/local/lib/python3.8/dist-packages (from jupyterlab) (2.0.1)\n",
            "Requirement already satisfied: nbclassic in /usr/local/lib/python3.8/dist-packages (from jupyterlab) (0.4.8)\n",
            "Requirement already satisfied: tomli in /usr/local/lib/python3.8/dist-packages (from jupyterlab) (2.0.1)\n",
            "Requirement already satisfied: jupyter-core in /usr/local/lib/python3.8/dist-packages (from jupyterlab) (5.1.0)\n",
            "Requirement already satisfied: notebook<7 in /usr/local/lib/python3.8/dist-packages (from jupyterlab) (6.5.2)\n",
            "Requirement already satisfied: MarkupSafe>=2.0 in /usr/local/lib/python3.8/dist-packages (from jinja2>=2.1->jupyterlab) (2.0.1)\n",
            "Requirement already satisfied: nbformat>=5.3.0 in /usr/local/lib/python3.8/dist-packages (from jupyter-server<3,>=1.16.0->jupyterlab) (5.7.0)\n",
            "Requirement already satisfied: anyio<4,>=3.1.0 in /usr/local/lib/python3.8/dist-packages (from jupyter-server<3,>=1.16.0->jupyterlab) (3.6.2)\n",
            "Requirement already satisfied: argon2-cffi in /usr/local/lib/python3.8/dist-packages (from jupyter-server<3,>=1.16.0->jupyterlab) (21.3.0)\n",
            "Requirement already satisfied: pyzmq>=24 in /usr/local/lib/python3.8/dist-packages (from jupyter-server<3,>=1.16.0->jupyterlab) (24.0.1)\n",
            "Requirement already satisfied: terminado>=0.8.3 in /usr/local/lib/python3.8/dist-packages (from jupyter-server<3,>=1.16.0->jupyterlab) (0.13.3)\n",
            "Requirement already satisfied: prometheus-client in /usr/local/lib/python3.8/dist-packages (from jupyter-server<3,>=1.16.0->jupyterlab) (0.15.0)\n",
            "Requirement already satisfied: send2trash in /usr/local/lib/python3.8/dist-packages (from jupyter-server<3,>=1.16.0->jupyterlab) (1.8.0)\n",
            "Requirement already satisfied: jupyter-client>=7.4.4 in /usr/local/lib/python3.8/dist-packages (from jupyter-server<3,>=1.16.0->jupyterlab) (7.4.8)\n",
            "Requirement already satisfied: jupyter-events>=0.4.0 in /usr/local/lib/python3.8/dist-packages (from jupyter-server<3,>=1.16.0->jupyterlab) (0.5.0)\n",
            "Requirement already satisfied: jupyter-server-terminals in /usr/local/lib/python3.8/dist-packages (from jupyter-server<3,>=1.16.0->jupyterlab) (0.4.2)\n",
            "Requirement already satisfied: traitlets>=5.6.0 in /usr/local/lib/python3.8/dist-packages (from jupyter-server<3,>=1.16.0->jupyterlab) (5.6.0)\n",
            "Requirement already satisfied: nbconvert>=6.4.4 in /usr/local/lib/python3.8/dist-packages (from jupyter-server<3,>=1.16.0->jupyterlab) (7.2.6)\n",
            "Requirement already satisfied: websocket-client in /usr/local/lib/python3.8/dist-packages (from jupyter-server<3,>=1.16.0->jupyterlab) (1.4.2)\n",
            "Requirement already satisfied: idna>=2.8 in /usr/local/lib/python3.8/dist-packages (from anyio<4,>=3.1.0->jupyter-server<3,>=1.16.0->jupyterlab) (2.10)\n",
            "Requirement already satisfied: sniffio>=1.1 in /usr/local/lib/python3.8/dist-packages (from anyio<4,>=3.1.0->jupyter-server<3,>=1.16.0->jupyterlab) (1.3.0)\n",
            "Requirement already satisfied: entrypoints in /usr/local/lib/python3.8/dist-packages (from jupyter-client>=7.4.4->jupyter-server<3,>=1.16.0->jupyterlab) (0.4)\n",
            "Requirement already satisfied: python-dateutil>=2.8.2 in /usr/local/lib/python3.8/dist-packages (from jupyter-client>=7.4.4->jupyter-server<3,>=1.16.0->jupyterlab) (2.8.2)\n",
            "Requirement already satisfied: nest-asyncio>=1.5.4 in /usr/local/lib/python3.8/dist-packages (from jupyter-client>=7.4.4->jupyter-server<3,>=1.16.0->jupyterlab) (1.5.6)\n",
            "Requirement already satisfied: platformdirs>=2.5 in /usr/local/lib/python3.8/dist-packages (from jupyter-core->jupyterlab) (2.5.4)\n",
            "Requirement already satisfied: python-json-logger in /usr/local/lib/python3.8/dist-packages (from jupyter-events>=0.4.0->jupyter-server<3,>=1.16.0->jupyterlab) (2.0.4)\n",
            "Requirement already satisfied: pyyaml in /usr/local/lib/python3.8/dist-packages (from jupyter-events>=0.4.0->jupyter-server<3,>=1.16.0->jupyterlab) (6.0)\n",
            "Requirement already satisfied: jsonschema[format-nongpl]>=4.3.0 in /usr/local/lib/python3.8/dist-packages (from jupyter-events>=0.4.0->jupyter-server<3,>=1.16.0->jupyterlab) (4.3.3)\n",
            "\u001b[33mWARNING: jsonschema 4.3.3 does not provide the extra 'format-nongpl'\u001b[0m\n",
            "Requirement already satisfied: attrs>=17.4.0 in /usr/local/lib/python3.8/dist-packages (from jsonschema[format-nongpl]>=4.3.0->jupyter-events>=0.4.0->jupyter-server<3,>=1.16.0->jupyterlab) (22.1.0)\n",
            "Requirement already satisfied: pyrsistent!=0.17.0,!=0.17.1,!=0.17.2,>=0.14.0 in /usr/local/lib/python3.8/dist-packages (from jsonschema[format-nongpl]>=4.3.0->jupyter-events>=0.4.0->jupyter-server<3,>=1.16.0->jupyterlab) (0.19.2)\n",
            "Requirement already satisfied: importlib-resources>=1.4.0 in /usr/local/lib/python3.8/dist-packages (from jsonschema[format-nongpl]>=4.3.0->jupyter-events>=0.4.0->jupyter-server<3,>=1.16.0->jupyterlab) (5.10.0)\n",
            "Requirement already satisfied: zipp>=3.1.0 in /usr/local/lib/python3.8/dist-packages (from importlib-resources>=1.4.0->jsonschema[format-nongpl]>=4.3.0->jupyter-events>=0.4.0->jupyter-server<3,>=1.16.0->jupyterlab) (3.11.0)\n",
            "Requirement already satisfied: requests>=2.28 in /usr/local/lib/python3.8/dist-packages (from jupyterlab-server~=2.10->jupyterlab) (2.28.1)\n",
            "Requirement already satisfied: json5>=0.9.0 in /usr/local/lib/python3.8/dist-packages (from jupyterlab-server~=2.10->jupyterlab) (0.9.10)\n",
            "Requirement already satisfied: importlib-metadata>=4.8.3 in /usr/local/lib/python3.8/dist-packages (from jupyterlab-server~=2.10->jupyterlab) (4.13.0)\n",
            "Requirement already satisfied: babel>=2.10 in /usr/local/lib/python3.8/dist-packages (from jupyterlab-server~=2.10->jupyterlab) (2.11.0)\n",
            "Requirement already satisfied: pytz>=2015.7 in /usr/local/lib/python3.8/dist-packages (from babel>=2.10->jupyterlab-server~=2.10->jupyterlab) (2022.6)\n",
            "Requirement already satisfied: mistune<3,>=2.0.3 in /usr/local/lib/python3.8/dist-packages (from nbconvert>=6.4.4->jupyter-server<3,>=1.16.0->jupyterlab) (2.0.4)\n",
            "Requirement already satisfied: pygments>=2.4.1 in /usr/local/lib/python3.8/dist-packages (from nbconvert>=6.4.4->jupyter-server<3,>=1.16.0->jupyterlab) (2.6.1)\n",
            "Requirement already satisfied: pandocfilters>=1.4.1 in /usr/local/lib/python3.8/dist-packages (from nbconvert>=6.4.4->jupyter-server<3,>=1.16.0->jupyterlab) (1.5.0)\n",
            "Requirement already satisfied: defusedxml in /usr/local/lib/python3.8/dist-packages (from nbconvert>=6.4.4->jupyter-server<3,>=1.16.0->jupyterlab) (0.7.1)\n",
            "Requirement already satisfied: bleach in /usr/local/lib/python3.8/dist-packages (from nbconvert>=6.4.4->jupyter-server<3,>=1.16.0->jupyterlab) (5.0.1)\n",
            "Requirement already satisfied: nbclient>=0.5.0 in /usr/local/lib/python3.8/dist-packages (from nbconvert>=6.4.4->jupyter-server<3,>=1.16.0->jupyterlab) (0.7.2)\n",
            "Requirement already satisfied: jupyterlab-pygments in /usr/local/lib/python3.8/dist-packages (from nbconvert>=6.4.4->jupyter-server<3,>=1.16.0->jupyterlab) (0.2.2)\n",
            "Requirement already satisfied: tinycss2 in /usr/local/lib/python3.8/dist-packages (from nbconvert>=6.4.4->jupyter-server<3,>=1.16.0->jupyterlab) (1.2.1)\n",
            "Requirement already satisfied: beautifulsoup4 in /usr/local/lib/python3.8/dist-packages (from nbconvert>=6.4.4->jupyter-server<3,>=1.16.0->jupyterlab) (4.6.3)\n",
            "Requirement already satisfied: fastjsonschema in /usr/local/lib/python3.8/dist-packages (from nbformat>=5.3.0->jupyter-server<3,>=1.16.0->jupyterlab) (2.16.2)\n",
            "Requirement already satisfied: ipykernel in /usr/local/lib/python3.8/dist-packages (from notebook<7->jupyterlab) (5.3.4)\n",
            "Requirement already satisfied: ipython-genutils in /usr/local/lib/python3.8/dist-packages (from notebook<7->jupyterlab) (0.2.0)\n",
            "Requirement already satisfied: notebook-shim>=0.1.0 in /usr/local/lib/python3.8/dist-packages (from nbclassic->jupyterlab) (0.2.2)\n",
            "Requirement already satisfied: pyparsing!=3.0.5,>=2.0.2 in /usr/local/lib/python3.8/dist-packages (from packaging->jupyterlab) (3.0.9)\n",
            "Requirement already satisfied: six>=1.5 in /usr/local/lib/python3.8/dist-packages (from python-dateutil>=2.8.2->jupyter-client>=7.4.4->jupyter-server<3,>=1.16.0->jupyterlab) (1.15.0)\n",
            "Requirement already satisfied: charset-normalizer<3,>=2 in /usr/local/lib/python3.8/dist-packages (from requests>=2.28->jupyterlab-server~=2.10->jupyterlab) (2.1.1)\n",
            "Requirement already satisfied: urllib3<1.27,>=1.21.1 in /usr/local/lib/python3.8/dist-packages (from requests>=2.28->jupyterlab-server~=2.10->jupyterlab) (1.24.3)\n",
            "Requirement already satisfied: certifi>=2017.4.17 in /usr/local/lib/python3.8/dist-packages (from requests>=2.28->jupyterlab-server~=2.10->jupyterlab) (2022.9.24)\n",
            "Requirement already satisfied: ptyprocess in /usr/local/lib/python3.8/dist-packages (from terminado>=0.8.3->jupyter-server<3,>=1.16.0->jupyterlab) (0.7.0)\n",
            "Requirement already satisfied: argon2-cffi-bindings in /usr/local/lib/python3.8/dist-packages (from argon2-cffi->jupyter-server<3,>=1.16.0->jupyterlab) (21.2.0)\n",
            "Requirement already satisfied: cffi>=1.0.1 in /usr/local/lib/python3.8/dist-packages (from argon2-cffi-bindings->argon2-cffi->jupyter-server<3,>=1.16.0->jupyterlab) (1.15.1)\n",
            "Requirement already satisfied: pycparser in /usr/local/lib/python3.8/dist-packages (from cffi>=1.0.1->argon2-cffi-bindings->argon2-cffi->jupyter-server<3,>=1.16.0->jupyterlab) (2.21)\n",
            "Requirement already satisfied: webencodings in /usr/local/lib/python3.8/dist-packages (from bleach->nbconvert>=6.4.4->jupyter-server<3,>=1.16.0->jupyterlab) (0.5.1)\n",
            "Requirement already satisfied: prompt-toolkit<2.1.0,>=2.0.0 in /usr/local/lib/python3.8/dist-packages (from ipython->jupyterlab) (2.0.10)\n",
            "Requirement already satisfied: backcall in /usr/local/lib/python3.8/dist-packages (from ipython->jupyterlab) (0.2.0)\n",
            "Requirement already satisfied: jedi>=0.10 in /usr/local/lib/python3.8/dist-packages (from ipython->jupyterlab) (0.18.2)\n",
            "Requirement already satisfied: pexpect in /usr/local/lib/python3.8/dist-packages (from ipython->jupyterlab) (4.8.0)\n",
            "Requirement already satisfied: pickleshare in /usr/local/lib/python3.8/dist-packages (from ipython->jupyterlab) (0.7.5)\n",
            "Requirement already satisfied: setuptools>=18.5 in /usr/local/lib/python3.8/dist-packages (from ipython->jupyterlab) (57.4.0)\n",
            "Requirement already satisfied: decorator in /usr/local/lib/python3.8/dist-packages (from ipython->jupyterlab) (4.4.2)\n",
            "Requirement already satisfied: parso<0.9.0,>=0.8.0 in /usr/local/lib/python3.8/dist-packages (from jedi>=0.10->ipython->jupyterlab) (0.8.3)\n",
            "Requirement already satisfied: wcwidth in /usr/local/lib/python3.8/dist-packages (from prompt-toolkit<2.1.0,>=2.0.0->ipython->jupyterlab) (0.2.5)\n",
            "Looking in indexes: https://pypi.org/simple, https://us-python.pkg.dev/colab-wheels/public/simple/\n",
            "Requirement already satisfied: astropy in /usr/local/lib/python3.8/dist-packages (4.3.1)\n",
            "Requirement already satisfied: numpy>=1.17 in /usr/local/lib/python3.8/dist-packages (from astropy) (1.21.6)\n",
            "Requirement already satisfied: pyerfa>=1.7.3 in /usr/local/lib/python3.8/dist-packages (from astropy) (2.0.0.1)\n",
            "Looking in indexes: https://pypi.org/simple, https://us-python.pkg.dev/colab-wheels/public/simple/\n",
            "Requirement already satisfied: astroquery in /usr/local/lib/python3.8/dist-packages (0.4.6)\n",
            "Requirement already satisfied: pyvo>=1.1 in /usr/local/lib/python3.8/dist-packages (from astroquery) (1.4)\n",
            "Requirement already satisfied: requests>=2.4.3 in /usr/local/lib/python3.8/dist-packages (from astroquery) (2.28.1)\n",
            "Requirement already satisfied: keyring>=4.0 in /usr/local/lib/python3.8/dist-packages (from astroquery) (23.11.0)\n",
            "Requirement already satisfied: html5lib>=0.999 in /usr/local/lib/python3.8/dist-packages (from astroquery) (1.0.1)\n",
            "Requirement already satisfied: astropy>=4.0 in /usr/local/lib/python3.8/dist-packages (from astroquery) (4.3.1)\n",
            "Requirement already satisfied: beautifulsoup4>=4.3.2 in /usr/local/lib/python3.8/dist-packages (from astroquery) (4.6.3)\n",
            "Requirement already satisfied: numpy>=1.16 in /usr/local/lib/python3.8/dist-packages (from astroquery) (1.21.6)\n",
            "Requirement already satisfied: pyerfa>=1.7.3 in /usr/local/lib/python3.8/dist-packages (from astropy>=4.0->astroquery) (2.0.0.1)\n",
            "Requirement already satisfied: six>=1.9 in /usr/local/lib/python3.8/dist-packages (from html5lib>=0.999->astroquery) (1.15.0)\n",
            "Requirement already satisfied: webencodings in /usr/local/lib/python3.8/dist-packages (from html5lib>=0.999->astroquery) (0.5.1)\n",
            "Requirement already satisfied: importlib-metadata>=4.11.4 in /usr/local/lib/python3.8/dist-packages (from keyring>=4.0->astroquery) (4.13.0)\n",
            "Requirement already satisfied: SecretStorage>=3.2 in /usr/local/lib/python3.8/dist-packages (from keyring>=4.0->astroquery) (3.3.3)\n",
            "Requirement already satisfied: jaraco.classes in /usr/local/lib/python3.8/dist-packages (from keyring>=4.0->astroquery) (3.2.3)\n",
            "Requirement already satisfied: jeepney>=0.4.2 in /usr/local/lib/python3.8/dist-packages (from keyring>=4.0->astroquery) (0.8.0)\n",
            "Requirement already satisfied: zipp>=0.5 in /usr/local/lib/python3.8/dist-packages (from importlib-metadata>=4.11.4->keyring>=4.0->astroquery) (3.11.0)\n",
            "Requirement already satisfied: charset-normalizer<3,>=2 in /usr/local/lib/python3.8/dist-packages (from requests>=2.4.3->astroquery) (2.1.1)\n",
            "Requirement already satisfied: certifi>=2017.4.17 in /usr/local/lib/python3.8/dist-packages (from requests>=2.4.3->astroquery) (2022.9.24)\n",
            "Requirement already satisfied: idna<4,>=2.5 in /usr/local/lib/python3.8/dist-packages (from requests>=2.4.3->astroquery) (2.10)\n",
            "Requirement already satisfied: urllib3<1.27,>=1.21.1 in /usr/local/lib/python3.8/dist-packages (from requests>=2.4.3->astroquery) (1.24.3)\n",
            "Requirement already satisfied: cryptography>=2.0 in /usr/local/lib/python3.8/dist-packages (from SecretStorage>=3.2->keyring>=4.0->astroquery) (38.0.4)\n",
            "Requirement already satisfied: cffi>=1.12 in /usr/local/lib/python3.8/dist-packages (from cryptography>=2.0->SecretStorage>=3.2->keyring>=4.0->astroquery) (1.15.1)\n",
            "Requirement already satisfied: pycparser in /usr/local/lib/python3.8/dist-packages (from cffi>=1.12->cryptography>=2.0->SecretStorage>=3.2->keyring>=4.0->astroquery) (2.21)\n",
            "Requirement already satisfied: more-itertools in /usr/local/lib/python3.8/dist-packages (from jaraco.classes->keyring>=4.0->astroquery) (9.0.0)\n"
          ]
        }
      ]
    },
    {
      "cell_type": "code",
      "source": [
        "import matplotlib.pyplot as plt\n",
        "from astropy.visualization import astropy_mpl_style\n",
        "plt.style.use(astropy_mpl_style)\n",
        "from astropy.utils.data import get_pkg_data_filename\n",
        "from astropy.io import fits\n",
        "\n",
        "image_file = get_pkg_data_filename('granada_fsps_krou_wideform_dust-DR12-boss.fits')\n",
        "fits.info(image_file)"
      ],
      "metadata": {
        "id": "1LigVio9LyVY",
        "colab": {
          "base_uri": "https://localhost:8080/"
        },
        "outputId": "ba0be047-74c3-4986-81be-72d49be4ed48"
      },
      "execution_count": 6,
      "outputs": [
        {
          "output_type": "stream",
          "name": "stderr",
          "text": [
            "WARNING: File may have been truncated: actual file length (912261120) is smaller than the expected size (1196219520) [astropy.io.fits.file]\n",
            "WARNING:astroquery:File may have been truncated: actual file length (912261120) is smaller than the expected size (1196219520)\n"
          ]
        },
        {
          "output_type": "stream",
          "name": "stdout",
          "text": [
            "Filename: granada_fsps_krou_wideform_dust-DR12-boss.fits\n",
            "No.    Name      Ver    Type      Cards   Dimensions   Format\n",
            "  0  PRIMARY       1 PrimaryHDU       4   ()      \n",
            "  1                1 BinTableHDU    141   1489670R x 51C   [J, J, J, D, D, E, E, I, 5D, 5D, 5D, 5D, 5D, 5D, 5D, 5D, 5D, D, D, D, D, D, D, D, J, 5D, 5D, 5D, 5D, 5D, D, D, D, D, D, D, D, D, J, J, J, K, K, K, K, K, K, K, 6A, 6A, B]   \n"
          ]
        }
      ]
    },
    {
      "cell_type": "code",
      "source": [
        "fits.open('granada_fsps_krou_wideform_dust-DR12-boss.fits')\n",
        "Table.read('granada_fsps_krou_wideform_dust-DR12-boss.fits')\n",
        "fits.open('granada_fsps_krou_wideform_nodust-DR12-boss.fits')\n",
        "Table.read('granada_fsps_krou_wideform_nodust-DR12-boss.fits')"
      ],
      "metadata": {
        "id": "BAGrvqzsqM-9",
        "outputId": "d6835bf8-16c7-4ae6-a854-24f65222f8a4",
        "colab": {
          "base_uri": "https://localhost:8080/",
          "height": 1000
        }
      },
      "execution_count": 9,
      "outputs": [
        {
          "output_type": "execute_result",
          "data": {
            "text/plain": [
              "<Table length=1489670>\n",
              "PLATE  MJD  FIBERID         RA         ... RUN2D  RUN1D  SPECPRIMARY\n",
              "int32 int32  int32       float64       ... bytes6 bytes6    uint8   \n",
              "----- ----- ------- ------------------ ... ------ ------ -----------\n",
              " 3586 55181       1  9.331911100000013 ... v5_7_0 v5_7_0           1\n",
              " 3586 55181       2  9.330077500000016 ... v5_7_0 v5_7_0           1\n",
              " 3586 55181       6  9.409153600000025 ... v5_7_0 v5_7_0           0\n",
              " 3586 55181       7  9.360467299999982 ... v5_7_0 v5_7_0           0\n",
              " 3586 55181       8   9.35192649999999 ... v5_7_0 v5_7_0           0\n",
              " 3586 55181       9  9.452025800000001 ... v5_7_0 v5_7_0           1\n",
              " 3586 55181      10  9.477722799999981 ... v5_7_0 v5_7_0           1\n",
              " 3586 55181      11   9.47710840000002 ... v5_7_0 v5_7_0           0\n",
              " 3586 55181      13  9.431826100000023 ... v5_7_0 v5_7_0           0\n",
              " 3586 55181      15  9.361011700000006 ... v5_7_0 v5_7_0           0\n",
              "  ...   ...     ...                ... ...    ...    ...         ...\n",
              " 7565 56809     946 244.25755000000004 ... v5_7_2 v5_7_2           1\n",
              " 7565 56809     951 244.18389000000002 ... v5_7_2 v5_7_2           1\n",
              " 7565 56809     952 244.24987999999996 ... v5_7_2 v5_7_2           1\n",
              " 7565 56809     956 244.16082000000006 ... v5_7_2 v5_7_2           1\n",
              " 7565 56809     967 244.31840999999997 ... v5_7_2 v5_7_2           1\n",
              " 7565 56809     972 244.39243999999997 ... v5_7_2 v5_7_2           1\n",
              " 7565 56809     980          244.50896 ... v5_7_2 v5_7_2           0\n",
              " 7565 56809     982 244.81021999999996 ... v5_7_2 v5_7_2           1\n",
              " 7565 56809     992          244.63576 ... v5_7_2 v5_7_2           1\n",
              " 7565 56809     993 244.64234999999996 ... v5_7_2 v5_7_2           0"
            ],
            "text/html": [
              "<div><i>Table length=1489670</i>\n",
              "<table id=\"table140556588906816\" class=\"table-striped table-bordered table-condensed\">\n",
              "<thead><tr><th>PLATE</th><th>MJD</th><th>FIBERID</th><th>RA</th><th>DEC</th><th>Z</th><th>Z_ERR</th><th>ZNUM</th><th>MAGSCALED [5]</th><th>MAGSCALED_ERR [5]</th><th>KE [5]</th><th>CMODELABSMAG [5]</th><th>M2L [5]</th><th>M2L_MEDIAN [5]</th><th>M2L_ERR [5]</th><th>M2L_MIN [5]</th><th>M2L_MAX [5]</th><th>LOGMASS</th><th>LOGMASS_MEDIAN</th><th>LOGMASS_ERR</th><th>LOGMASS_MIN</th><th>LOGMASS_MAX</th><th>CHI2</th><th>DELTA_CHI2</th><th>NFILTER</th><th>PARAM [5]</th><th>PARAM_MEAN [5]</th><th>PARAM_ERR [5]</th><th>PARAM_MIN [5]</th><th>PARAM_MAX [5]</th><th>AGE</th><th>AGE_MEAN</th><th>AGE_MIN</th><th>AGE_MAX</th><th>SSFR</th><th>SSFR_MEAN</th><th>SSFR_MIN</th><th>SSFR_MAX</th><th>WARNING</th><th>LEGACY_TARGET1</th><th>LEGACY_TARGET2</th><th>SPECIAL_TARGET1</th><th>SPECIAL_TARGET2</th><th>BOSS_TARGET1</th><th>EBOSS_TARGET0</th><th>ANCILLARY_TARGET1</th><th>ANCILLARY_TARGET2</th><th>SPECOBJID</th><th>RUN2D</th><th>RUN1D</th><th>SPECPRIMARY</th></tr></thead>\n",
              "<thead><tr><th>int32</th><th>int32</th><th>int32</th><th>float64</th><th>float64</th><th>float32</th><th>float32</th><th>int16</th><th>float64</th><th>float64</th><th>float64</th><th>float64</th><th>float64</th><th>float64</th><th>float64</th><th>float64</th><th>float64</th><th>float64</th><th>float64</th><th>float64</th><th>float64</th><th>float64</th><th>float64</th><th>float64</th><th>int32</th><th>float64</th><th>float64</th><th>float64</th><th>float64</th><th>float64</th><th>float64</th><th>float64</th><th>float64</th><th>float64</th><th>float64</th><th>float64</th><th>float64</th><th>float64</th><th>int32</th><th>int32</th><th>int32</th><th>int64</th><th>int64</th><th>int64</th><th>int64</th><th>int64</th><th>int64</th><th>int64</th><th>bytes6</th><th>bytes6</th><th>uint8</th></tr></thead>\n",
              "<tr><td>3586</td><td>55181</td><td>1</td><td>9.331911100000013</td><td>-0.46295596</td><td>0.46511224</td><td>0.00027157628</td><td>1</td><td>23.874088287353516 .. 19.040855407714844</td><td>1.8781356811523438 .. 0.1006440594792366</td><td>-0.552196592092514 .. -0.599430650472641</td><td>-19.514569406283044 .. -22.062060003054285</td><td>34.633524517284904 .. 0.5988374098039876</td><td>119.15423882973911 .. 0.7488975370843658</td><td>79.0095358317788 .. 0.15333434005294236</td><td>52.495547379262995 .. 0.5715265873941144</td><td>203.4346097400891 .. 0.8998237583707221</td><td>11.291049900632887</td><td>11.386993562575222</td><td>0.10490703153630834</td><td>11.261171655582018</td><td>11.472080180029817</td><td>0.32576034299563617</td><td>0.007696609594859183</td><td>5</td><td>3.8250796794891357 .. 0.6250672354470715</td><td>5.943472854482417 .. 0.25377549047140924</td><td>1.7459386613273948 .. 0.321055823025992</td><td>3.8250796794891357 .. 0.08305299020913524</td><td>7.8151750564575195 .. 0.8932045680454345</td><td>3.208444833755493</td><td>5.494352231534403</td><td>3.637796640396118</td><td>7.2538838386535645</td><td>-2.2217981815338135</td><td>-11.977376479802134</td><td>-33.0</td><td>-2.678969383239746</td><td>0</td><td>0</td><td>0</td><td>0</td><td>0</td><td>14</td><td>0</td><td>0</td><td>0</td><td>4037477427739029504</td><td>v5_7_0</td><td>v5_7_0</td><td>1</td></tr>\n",
              "<tr><td>3586</td><td>55181</td><td>2</td><td>9.330077500000016</td><td>-0.62411693</td><td>0.71972626</td><td>7.575063e-05</td><td>1</td><td>21.893857955932617 .. 19.291488647460938</td><td>0.3792306184768677 .. 0.1279277503490448</td><td>-0.48727139830589294 .. -0.31351861357688904</td><td>-21.421229360830864 .. -24.353952406179985</td><td>1.8883204752028997 .. 0.29626933474885747</td><td>1.944809384978249 .. 0.3215917223077797</td><td>0.637536336889127 .. 0.07570744413447054</td><td>1.408144572646773 .. 0.242911736772675</td><td>2.6580465722021023 .. 0.402917497072347</td><td>11.431252634151674</td><td>11.466346744493428</td><td>0.1273611228277161</td><td>11.338737094847529</td><td>11.57247986891217</td><td>6.688808661536314</td><td>0.030461162445135415</td><td>5</td><td>5.155111312866211 .. 2.5666913146704102</td><td>4.976152068214762 .. 2.423391378066716</td><td>1.495121050780315 .. 1.1488314759949305</td><td>3.1600637435913086 .. 1.4400312784083158</td><td>6.485143661499023 .. 3.8764077305073728</td><td>3.387429714202881</td><td>3.2415111477600607</td><td>2.1162796020507812</td><td>4.289774417877197</td><td>-1.0116521120071411</td><td>-0.9781050744919487</td><td>-1.1030319929122925</td><td>-0.8401987552642822</td><td>0</td><td>0</td><td>0</td><td>0</td><td>0</td><td>6</td><td>0</td><td>0</td><td>0</td><td>4037477702616936448</td><td>v5_7_0</td><td>v5_7_0</td><td>1</td></tr>\n",
              "<tr><td>3586</td><td>55181</td><td>6</td><td>9.409153600000025</td><td>-0.25005844</td><td>0.5329881</td><td>0.00015017422</td><td>1</td><td>23.205322265625 .. 18.823741912841797</td><td>0.6705726981163025 .. 0.06467541307210922</td><td>-0.5008564889431 .. -0.499971479177475</td><td>-22.109319731331027 .. -23.371418043708957</td><td>36.685427665105294 .. 0.4514873263856352</td><td>43.02311644718421 .. 0.4955296612816962</td><td>17.923861357002195 .. 0.1068313482519007</td><td>29.36808450017179 .. 0.41896943827265</td><td>59.18862604515594 .. 0.634516413079415</td><td>11.469810536014144</td><td>11.51090477186845</td><td>0.10370951047578893</td><td>11.431916713672447</td><td>11.627620935137845</td><td>1.1832527229562402</td><td>0.014992598444223404</td><td>5</td><td>3.1600637435913086 .. 0.4154262586974209</td><td>4.270409029608455 .. 0.2607971298540335</td><td>1.4977905132118061 .. 0.31806990447127387</td><td>3.1600637435913086 .. 0.08305299020913524</td><td>5.820127487182617 .. 0.8932045680454345</td><td>2.746208906173706</td><td>3.8303764620011242</td><td>2.653092384338379</td><td>5.071660041809082</td><td>-2.674182415008545</td><td>-8.90095599153286</td><td>-18.42917251586914</td><td>-2.4615793228149414</td><td>0</td><td>0</td><td>0</td><td>0</td><td>0</td><td>14</td><td>0</td><td>0</td><td>0</td><td>4037478802128564224</td><td>v5_7_0</td><td>v5_7_0</td><td>0</td></tr>\n",
              "<tr><td>3586</td><td>55181</td><td>7</td><td>9.360467299999982</td><td>-0.21284117</td><td>0.4744246</td><td>0.00013510989</td><td>1</td><td>24.746503829956055 .. 18.951038360595703</td><td>0.908759355545044 .. 0.06325465440750122</td><td>-0.6422501504421234 .. -0.5958805978298187</td><td>-16.800825571560253 .. -22.714672541164745</td><td>196.19903166384884 .. 1.0808497293793577</td><td>275.6732693082921 .. 0.9021464459301899</td><td>114.58617249883767 .. 0.14859462259962386</td><td>152.59625651896368 .. 0.7366245663054787</td><td>386.7612536329172 .. 1.04637514974627</td><td>11.606051539706728</td><td>11.517246017503023</td><td>0.08183499892959815</td><td>11.430000914026186</td><td>11.590357582181698</td><td>0.7781214730348438</td><td>0.021966180996969342</td><td>5</td><td>8.480191230773926 .. 1.0538058281150484</td><td>6.448987405096877 .. 0.21702413851481556</td><td>1.5680111449383805 .. 0.2650386976731609</td><td>4.490095615386963 .. 0.04438567046763928</td><td>8.480191230773926 .. 0.7509754838363404</td><td>7.429100036621094</td><td>6.075888224351492</td><td>4.3593974113464355</td><td>7.729321479797363</td><td>-3.2802817821502686</td><td>-13.94339356677292</td><td>-33.0</td><td>-3.385735273361206</td><td>0</td><td>0</td><td>0</td><td>0</td><td>0</td><td>14</td><td>0</td><td>0</td><td>0</td><td>4037479077006471168</td><td>v5_7_0</td><td>v5_7_0</td><td>0</td></tr>\n",
              "<tr><td>3586</td><td>55181</td><td>8</td><td>9.35192649999999</td><td>-0.15962207</td><td>0.48955613</td><td>0.00017475183</td><td>1</td><td>22.542890548706055 .. 19.15262794494629</td><td>0.4780246317386627 .. 0.08787031471729279</td><td>-0.4730931222438812 .. -0.5679202973842621</td><td>-22.09196968853825 .. -22.769677837494548</td><td>21.631610852343886 .. 0.9683799262547903</td><td>20.69409282203489 .. 0.7314681153781342</td><td>7.61586043625429 .. 0.13240472184954666</td><td>16.398604518078077 .. 0.588789210262409</td><td>29.50825685085638 .. 0.8645400101080516</td><td>11.551710155965159</td><td>11.411404081596146</td><td>0.09360016526251781</td><td>11.32043791069336</td><td>11.501320243879745</td><td>0.1228392911143601</td><td>0.14680654625408351</td><td>5</td><td>8.480191230773926 .. 1.9336099699953933</td><td>6.590865608603286 .. 1.2787328624514354</td><td>1.5056293918586061 .. 0.4639121400125943</td><td>5.155111312866211 .. 0.8932045680454345</td><td>8.480191230773926 .. 1.6716129984868706</td><td>6.653529167175293</td><td>5.297576062085513</td><td>4.140298366546631</td><td>6.653529167175293</td><td>-1.962537169456482</td><td>-2.105429592011732</td><td>-2.2195963859558105</td><td>-1.887591004371643</td><td>0</td><td>0</td><td>0</td><td>0</td><td>0</td><td>14</td><td>0</td><td>0</td><td>0</td><td>4037479351884378112</td><td>v5_7_0</td><td>v5_7_0</td><td>0</td></tr>\n",
              "<tr><td>3586</td><td>55181</td><td>9</td><td>9.452025800000001</td><td>-0.10527381</td><td>0.48993522</td><td>0.00021731557</td><td>1</td><td>23.83928108215332 .. 19.323223114013672</td><td>0.9667542576789856 .. 0.08554086089134216</td><td>-0.5009423196315765 .. -0.575901597738266</td><td>-21.06618753331408 .. -22.09379592793688</td><td>84.34822742797314 .. 1.0794354208473842</td><td>204.59732488625804 .. 0.931812813093317</td><td>146.10664833584337 .. 0.16317501604519188</td><td>96.17739616315723 .. 0.7593232251377129</td><td>394.3398179804985 .. 1.1118431020834247</td><td>11.51131143285391</td><td>11.430747870348288</td><td>0.09253498327788354</td><td>11.336946272862084</td><td>11.522321878620856</td><td>0.47640914004296064</td><td>0.13657803973183036</td><td>5</td><td>7.8151750564575195 .. 1.2351613130261774</td><td>6.748765613971932 .. 0.31546502574122015</td><td>1.4780347495547699 .. 0.39344491515534785</td><td>5.155111312866211 .. 0.08305299020913524</td><td>8.480191230773926 .. 1.0538058281150484</td><td>6.594004154205322</td><td>6.22042302259559</td><td>4.531394958496094</td><td>7.684476852416992</td><td>-2.6085598468780518</td><td>-11.418463573889593</td><td>-32.33008575439453</td><td>-2.7371678352355957</td><td>0</td><td>0</td><td>0</td><td>0</td><td>0</td><td>14</td><td>0</td><td>0</td><td>0</td><td>4037479626762285056</td><td>v5_7_0</td><td>v5_7_0</td><td>1</td></tr>\n",
              "<tr><td>3586</td><td>55181</td><td>10</td><td>9.477722799999981</td><td>-0.13183203</td><td>0.46458003</td><td>0.0001741503</td><td>1</td><td>24.57427978515625 .. 19.206941604614258</td><td>1.2206242084503174 .. 0.08302231878042221</td><td>-0.6334877908229828 .. -0.6106878221035004</td><td>-16.804225570927287 .. -22.570910579929972</td><td>159.55081674478342 .. 1.0649128016929308</td><td>287.6529541792989 .. 0.9222196438113824</td><td>141.20114872766612 .. 0.1663596395154759</td><td>150.985159191376 .. 0.7477502242638492</td><td>447.3106009290527 .. 1.1084488430331902</td><td>11.505878176887515</td><td>11.431836866324568</td><td>0.09256343582613044</td><td>11.335909487042574</td><td>11.524750686195436</td><td>0.24946594052016735</td><td>0.01624112529680133</td><td>5</td><td>7.8151750564575195 .. 1.0538058281150484</td><td>6.470783033377579 .. 0.21530771030151688</td><td>1.5395586421280274 .. 0.26305303733928015</td><td>4.490095615386963 .. 0.04438567046763928</td><td>8.480191230773926 .. 0.7509754838363404</td><td>6.766072750091553</td><td>6.099784827067427</td><td>4.407042503356934</td><td>7.729321479797363</td><td>-3.0086264610290527</td><td>-14.04593103451033</td><td>-33.0</td><td>-3.511164426803589</td><td>0</td><td>0</td><td>0</td><td>0</td><td>0</td><td>14</td><td>0</td><td>0</td><td>0</td><td>4037479901640192000</td><td>v5_7_0</td><td>v5_7_0</td><td>1</td></tr>\n",
              "<tr><td>3586</td><td>55181</td><td>11</td><td>9.47710840000002</td><td>-0.097728157</td><td>0.4904012</td><td>0.0001462813</td><td>1</td><td>24.936534881591797 .. 19.038496017456055</td><td>1.4667131900787354 .. 0.07288537174463272</td><td>-0.6344586312770844 .. -0.5669384896755219</td><td>-16.61218404747769 .. -22.792165279167143</td><td>167.02901968803806 .. 0.936225972325881</td><td>188.34092514380922 .. 0.8484957672401809</td><td>88.21914975416368 .. 0.13508691598650843</td><td>120.47767410454476 .. 0.6867938180336434</td><td>286.9643603629249 .. 0.9699378248009788</td><td>11.58221500419994</td><td>11.537978475186039</td><td>0.07907977509702561</td><td>11.444030384463163</td><td>11.60121800501372</td><td>0.5404233429580927</td><td>0.0</td><td>5</td><td>8.480191230773926 .. 0.015472887953441317</td><td>6.449175368065598 .. 0.21001060772936056</td><td>1.634271152966065 .. 0.25683556019725085</td><td>4.490095615386963 .. 0.04438567046763928</td><td>8.480191230773926 .. 0.7509754838363404</td><td>8.464717864990234</td><td>6.0850795308324</td><td>4.278016090393066</td><td>7.73212194442749</td><td>-33.0</td><td>-14.208338690399577</td><td>-33.0</td><td>-3.508667230606079</td><td>0</td><td>0</td><td>0</td><td>0</td><td>0</td><td>14</td><td>0</td><td>0</td><td>0</td><td>4037480176518098944</td><td>v5_7_0</td><td>v5_7_0</td><td>0</td></tr>\n",
              "<tr><td>3586</td><td>55181</td><td>13</td><td>9.431826100000023</td><td>-0.019843807</td><td>0.63485336</td><td>0.0002306742</td><td>1</td><td>24.956087112426758 .. 19.41420555114746</td><td>0.8932623267173767 .. 0.08061253279447556</td><td>-0.42807015776634216 .. -0.34536418318748474</td><td>-17.44912770905401 .. -23.24366191544439</td><td>20.577314615838 .. 0.46354020162409876</td><td>24.21452913611009 .. 0.46463226600029955</td><td>12.626811835865606 .. 0.1275898587214483</td><td>16.86782975157615 .. 0.3693202348821007</td><td>36.9387779557114 .. 0.6462864903738362</td><td>11.489338768992006</td><td>11.497707246930569</td><td>0.13159797276408458</td><td>11.380933473709865</td><td>11.648512874919282</td><td>4.535810014465824</td><td>0.0074256123043596745</td><td>5</td><td>3.8250796794891357 .. 0.6250672354470715</td><td>4.251316918831888 .. 0.399796556759716</td><td>1.662176759876524 .. 0.46617034536756236</td><td>2.4950478076934814 .. 0.13069821253070193</td><td>6.485143661499023 .. 1.2351613130261774</td><td>3.208444833755493</td><td>3.6397049987574874</td><td>2.364349603652954</td><td>5.284177780151367</td><td>-2.218447208404541</td><td>-5.859735671444924</td><td>-7.817292213439941</td><td>-2.0239484310150146</td><td>0</td><td>0</td><td>0</td><td>0</td><td>0</td><td>6</td><td>0</td><td>0</td><td>0</td><td>4037480726273912832</td><td>v5_7_0</td><td>v5_7_0</td><td>0</td></tr>\n",
              "<tr><td>3586</td><td>55181</td><td>15</td><td>9.361011700000006</td><td>0.010623327</td><td>0.68602973</td><td>0.00016682237</td><td>1</td><td>24.279186248779297 .. 19.268112182617188</td><td>0.9643611311912537 .. 0.09311468154191971</td><td>-0.1486569344997406 .. -0.25125035643577576</td><td>-21.998110522780202 .. -23.724164714369557</td><td>98.9520052558908 .. 0.7488975370843658</td><td>89.62648295869201 .. 0.6468473262463315</td><td>48.65215551498436 .. 0.12641462293719363</td><td>53.821906228892395 .. 0.506328347529288</td><td>140.3180138712808 .. 0.7778072469443982</td><td>11.856810996993838</td><td>11.795016976060294</td><td>0.09882930655695235</td><td>11.683246100160728</td><td>11.879618725125205</td><td>0.6166079208487645</td><td>0.002193849184550345</td><td>5</td><td>7.1501593589782715 .. 0.7509754838363404</td><td>5.093206312794287 .. 0.1970935740989918</td><td>1.4192353327998732 .. 0.23341553596491815</td><td>3.1600637435913086 .. 0.04438567046763928</td><td>6.485143661499023 .. 0.6250672354470715</td><td>6.399707794189453</td><td>4.764577181231073</td><td>3.1445908546447754</td><td>6.259342193603516</td><td>-3.7626900672912598</td><td>-12.592103614223962</td><td>-33.0</td><td>-3.18477463722229</td><td>0</td><td>0</td><td>0</td><td>0</td><td>0</td><td>14</td><td>0</td><td>0</td><td>0</td><td>4037481276029726720</td><td>v5_7_0</td><td>v5_7_0</td><td>0</td></tr>\n",
              "<tr><td>...</td><td>...</td><td>...</td><td>...</td><td>...</td><td>...</td><td>...</td><td>...</td><td>...</td><td>...</td><td>...</td><td>...</td><td>...</td><td>...</td><td>...</td><td>...</td><td>...</td><td>...</td><td>...</td><td>...</td><td>...</td><td>...</td><td>...</td><td>...</td><td>...</td><td>...</td><td>...</td><td>...</td><td>...</td><td>...</td><td>...</td><td>...</td><td>...</td><td>...</td><td>...</td><td>...</td><td>...</td><td>...</td><td>...</td><td>...</td><td>...</td><td>...</td><td>...</td><td>...</td><td>...</td><td>...</td><td>...</td><td>...</td><td>...</td><td>...</td><td>...</td></tr>\n",
              "<tr><td>7565</td><td>56809</td><td>946</td><td>244.25755000000004</td><td>56.073414</td><td>0.90797156</td><td>0.0004331375</td><td>1</td><td>22.691640853881836 .. 19.93631935119629</td><td>1.011518120765686 .. 0.26767417788505554</td><td>-0.12507638335227966 .. -0.01551160216331482</td><td>-21.46380579081469 .. -24.23040449229174</td><td>14.234488424853126 .. 0.36207504831229675</td><td>19.305068571055454 .. 0.489259894757842</td><td>25.32347603450848 .. 0.13122000357034477</td><td>7.9503612671785335 .. 0.36207504831229675</td><td>43.02311644718421 .. 0.634516413079415</td><td>11.747531941954426</td><td>11.890335689315162</td><td>0.18830838061465704</td><td>11.728294370111884</td><td>12.025272958733916</td><td>6.212515119128511</td><td>0.001638543646549806</td><td>5</td><td>2.4950478076934814 .. 0.4154262586974209</td><td>4.178436742210587 .. 0.6759758410986086</td><td>1.1332600052018973 .. 0.39069053490987365</td><td>2.4950478076934814 .. 0.4154262586974209</td><td>5.820127487182617 .. 1.0538058281150484</td><td>2.085784435272217</td><td>3.4504806996514272</td><td>2.361487627029419</td><td>4.484173774719238</td><td>-1.9873467683792114</td><td>-2.5908578812573744</td><td>-2.673034906387329</td><td>-1.6495757102966309</td><td>0</td><td>0</td><td>0</td><td>0</td><td>0</td><td>0</td><td>0</td><td>0</td><td>288230376151711744</td><td>8517692944001202176</td><td>v5_7_2</td><td>v5_7_2</td><td>1</td></tr>\n",
              "<tr><td>7565</td><td>56809</td><td>951</td><td>244.18389000000002</td><td>56.059972</td><td>0.3086542</td><td>7.5537086e-05</td><td>1</td><td>22.061603546142578 .. 17.658754348754883</td><td>0.6161972284317017 .. 0.03891422599554062</td><td>-1.3749543130397797 .. -0.8136740624904633</td><td>-19.435277638842237 .. -22.556406674791944</td><td>85.40804587004465 .. 0.7159631987929713</td><td>287.15400654592565 .. 0.9664478733387921</td><td>100.03588555882041 .. 0.15554758655369777</td><td>148.44580817051414 .. 0.7246455457042669</td><td>355.39859882289926 .. 1.081289675851204</td><td>11.445731307756086</td><td>11.577947920525023</td><td>0.07262363035844506</td><td>11.45401886569839</td><td>11.625150769659681</td><td>0.1736880224198103</td><td>0.05887558311223984</td><td>5</td><td>4.490095615386963 .. 0.6250672354470715</td><td>6.891026830283045 .. 0.2604723796482101</td><td>2.057220108667905 .. 0.3293813094578251</td><td>4.490095615386963 .. 0.08305299020913524</td><td>9.145207405090332 .. 0.8932045680454345</td><td>3.8684394359588623</td><td>6.430966086791809</td><td>4.236942768096924</td><td>8.757305145263672</td><td>-2.6795156002044678</td><td>-12.909821727208305</td><td>-33.0</td><td>-3.008089065551758</td><td>0</td><td>0</td><td>0</td><td>0</td><td>0</td><td>0</td><td>0</td><td>0</td><td>288230376151711744</td><td>8517694318390736896</td><td>v5_7_2</td><td>v5_7_2</td><td>1</td></tr>\n",
              "<tr><td>7565</td><td>56809</td><td>952</td><td>244.24987999999996</td><td>56.007578</td><td>0.06370646</td><td>1.1293419e-05</td><td>1</td><td>17.800819396972656 .. 14.838961601257324</td><td>0.018429391086101532 .. 0.005093353800475597</td><td>-2.42921981215477 .. -1.1292067468166351</td><td>-16.946060804942107 .. -21.238892702677703</td><td>21.69579095882049 .. 0.4504623995239369</td><td>21.69579095882049 .. 0.4504623995239369</td><td>0.2792075208277989 .. 0.010959012429783442</td><td>21.69579095882049 .. 0.4504623995239369</td><td>21.69579095882049 .. 0.4504623995239369</td><td>10.750536282070543</td><td>10.750536282070543</td><td>0.011069617493308537</td><td>10.750536282070543</td><td>10.750536282070543</td><td>276.8372849225998</td><td>11.154406011104584</td><td>5</td><td>3.1600637435913086 .. 0.5137184792550692</td><td>3.173370289605622 .. 0.5155402328995767</td><td>0.2090997805904944 .. 0.026801917260410663</td><td>3.1600637435913086 .. 0.5137184792550692</td><td>3.1600637435913086 .. 0.5137184792550692</td><td>2.653092384338379</td><td>2.6636629635191027</td><td>2.653092384338379</td><td>2.653092384338379</td><td>-2.146496057510376</td><td>-2.1468596764737145</td><td>-2.146496057510376</td><td>-2.146496057510376</td><td>0</td><td>0</td><td>0</td><td>0</td><td>0</td><td>0</td><td>0</td><td>0</td><td>288230376151711744</td><td>8517694593268643840</td><td>v5_7_2</td><td>v5_7_2</td><td>1</td></tr>\n",
              "<tr><td>7565</td><td>56809</td><td>956</td><td>244.16082000000006</td><td>56.342185</td><td>0.5222501</td><td>9.91403e-05</td><td>1</td><td>23.417457580566406 .. 18.066679000854492</td><td>1.2308473587036133 .. 0.04208938404917717</td><td>-0.5845385491847992 .. -0.521638959646225</td><td>-20.386130989845924 .. -23.671499909218483</td><td>226.29661866702565 .. 0.5982396806021546</td><td>210.39414054179173 .. 0.861400775069805</td><td>63.73786274061082 .. 0.13228645957452456</td><td>153.03582416929152 .. 0.6732991531725405</td><td>286.62703495311604 .. 0.9719912159101582</td><td>11.868354405589152</td><td>12.0244277051831</td><td>0.07039236590096018</td><td>11.921818688186338</td><td>12.08080849308162</td><td>3.3475597919896245</td><td>0.14144730661064386</td><td>5</td><td>3.1600637435913086 .. 0.25315310295700094</td><td>6.321447767477676 .. 0.18524556984512652</td><td>1.7475870559651578 .. 0.21883981203292308</td><td>3.8250796794891357 .. 0.04438567046763928</td><td>8.480191230773926 .. 0.6250672354470715</td><td>2.9069225788116455</td><td>6.010506235522287</td><td>3.8096067905426025</td><td>7.770789623260498</td><td>-4.5421061515808105</td><td>-14.961181578442758</td><td>-33.0</td><td>-4.055042743682861</td><td>0</td><td>0</td><td>0</td><td>0</td><td>0</td><td>0</td><td>0</td><td>0</td><td>864691128455135232</td><td>8517695692780271616</td><td>v5_7_2</td><td>v5_7_2</td><td>1</td></tr>\n",
              "<tr><td>7565</td><td>56809</td><td>967</td><td>244.31840999999997</td><td>55.418804</td><td>0.18477847</td><td>2.8521195e-05</td><td>1</td><td>21.606197357177734 .. 18.164791107177734</td><td>0.24100950360298157 .. 0.04066615179181099</td><td>-0.8445988595485687 .. -0.9563475549221039</td><td>-17.716609937923373 .. -20.537686331050814</td><td>11.522367382864715 .. 0.9134399001390915</td><td>11.946466183255852 .. 0.8617598971585587</td><td>1.7956404822345313 .. 0.11458895758698005</td><td>10.468169331039846 .. 0.7252461026932258</td><td>13.545882317574792 .. 0.9428423655471372</td><td>10.773205155326023</td><td>10.742721561415555</td><td>0.06241785318627924</td><td>10.67365259437373</td><td>10.785159341949303</td><td>18.84836930129677</td><td>0.04902363661676645</td><td>5</td><td>9.810222625732422 .. 2.9485185631819992</td><td>9.063646721793845 .. 2.470936518370043</td><td>1.8406998784564497 .. 0.7864993669549525</td><td>7.1501593589782715 .. 1.9336099699953933</td><td>11.140254974365234 .. 3.382493976905755</td><td>7.226947784423828</td><td>6.768116457725484</td><td>5.39821195602417</td><td>8.187272071838379</td><td>-1.678780198097229</td><td>-1.724662715979417</td><td>-1.7775688171386719</td><td>-1.6490473747253418</td><td>0</td><td>0</td><td>0</td><td>0</td><td>0</td><td>0</td><td>0</td><td>0</td><td>1152921504606846976</td><td>8517698716437248000</td><td>v5_7_2</td><td>v5_7_2</td><td>1</td></tr>\n",
              "<tr><td>7565</td><td>56809</td><td>972</td><td>244.39243999999997</td><td>55.555453</td><td>0.32413328</td><td>2.9964343e-05</td><td>1</td><td>20.734643936157227 .. 17.775400161743164</td><td>0.12176426500082016 .. 0.02595958113670349</td><td>-0.5545006692409515 .. -0.7464075982570648</td><td>-20.109544091659416 .. -22.78258543534838</td><td>9.173795059943005 .. 0.8268241524590635</td><td>9.173795059943005 .. 0.8088419844020075</td><td>0.7295190140293718 .. 0.05638536196861884</td><td>8.536939501393812 .. 0.7207577489546932</td><td>9.824050831445437 .. 0.8360381301453186</td><td>11.496585221459753</td><td>11.485488130416961</td><td>0.03399744089102952</td><td>11.43026106231745</td><td>11.498013371462335</td><td>23.683200025931</td><td>1.2623762991279364</td><td>5</td><td>9.145207405090332 .. 2.9485185631819992</td><td>8.947467714883532 .. 2.8103413271523907</td><td>0.9334426642447395 .. 0.4241116884907217</td><td>8.480191230773926 .. 2.5666913146704102</td><td>9.810222625732422 .. 3.382493976905755</td><td>6.627373695373535</td><td>6.510380207061876</td><td>6.236928939819336</td><td>6.998772144317627</td><td>-1.5788623094558716</td><td>-1.587823311695302</td><td>-1.6385576725006104</td><td>-1.5465260744094849</td><td>0</td><td>0</td><td>0</td><td>0</td><td>0</td><td>0</td><td>0</td><td>0</td><td>1152921504606846976</td><td>8517700090826782720</td><td>v5_7_2</td><td>v5_7_2</td><td>1</td></tr>\n",
              "<tr><td>7565</td><td>56809</td><td>980</td><td>244.50896</td><td>55.334006</td><td>0.6859693</td><td>0.0003666301</td><td>1</td><td>26.7981014251709 .. 19.592334747314453</td><td>0.3474079966545105 .. 0.16906607151031494</td><td>0.06435003876686096 .. -0.20470532774925232</td><td>-16.495105588028636 .. -23.54538425166389</td><td>536.3665032807837 .. 0.9353573653135178</td><td>432.9618235429192 .. 0.851062597490456</td><td>94.14014349570503 .. 0.1336518348076111</td><td>337.32864554279615 .. 0.7189363563135434</td><td>536.3665032807837 .. 0.9645753609226745</td><td>12.003711432360452</td><td>11.959337670011468</td><td>0.08845473492168092</td><td>11.88676336617018</td><td>12.015158981729472</td><td>6.7448438297142275</td><td>0.005126119242049754</td><td>5</td><td>5.820127487182617 .. 0.18728303075321592</td><td>5.124759262087833 .. 0.11417336468131532</td><td>1.0480435530199106 .. 0.12030214134943022</td><td>3.8250796794891357 .. 0.04438567046763928</td><td>5.820127487182617 .. 0.3289214289594226</td><td>5.6328444480896</td><td>4.948942080748895</td><td>3.7420268058776855</td><td>5.804654598236084</td><td>-12.43750286102295</td><td>-17.620499474996837</td><td>-33.0</td><td>-6.049161911010742</td><td>0</td><td>0</td><td>0</td><td>0</td><td>0</td><td>0</td><td>0</td><td>0</td><td>576460752303423488</td><td>8517702289850038272</td><td>v5_7_2</td><td>v5_7_2</td><td>0</td></tr>\n",
              "<tr><td>7565</td><td>56809</td><td>982</td><td>244.81021999999996</td><td>55.708447</td><td>0.2035225</td><td>2.4728353e-05</td><td>1</td><td>23.265092849731445 .. 18.844457626342773</td><td>0.7486933469772339 .. 0.05754991993308067</td><td>-1.2496300637722015 .. -0.9959326684474945</td><td>-17.5621252664589 .. -20.104768813517005</td><td>58.42711899793299 .. 1.2752208924644393</td><td>364.5503404840624 .. 1.1329545629798452</td><td>162.28158620392418 .. 0.1715775638116807</td><td>85.40804587004465 .. 0.903074522708929</td><td>489.2233837337855 .. 1.2688621157443698</td><td>10.7397174542089</td><td>10.685196680256901</td><td>0.07206997909732027</td><td>10.586059924040917</td><td>10.739270498817653</td><td>12.525158097501844</td><td>0.33293918427079916</td><td>5</td><td>10.475238800048828 .. 1.9336099699953933</td><td>8.152651423473442 .. 0.37436637990496163</td><td>2.1256278517122777 .. 0.5058922400636505</td><td>5.820127487182617 .. 0.08305299020913524</td><td>10.475238800048828 .. 1.4400312784083158</td><td>8.588330268859863</td><td>7.459038125488082</td><td>5.306478977203369</td><td>9.421937942504883</td><td>-2.4082112312316895</td><td>-11.680102559952342</td><td>-33.0</td><td>-2.6836516857147217</td><td>0</td><td>0</td><td>0</td><td>0</td><td>0</td><td>0</td><td>0</td><td>0</td><td>1152921504606846976</td><td>8517702839605852160</td><td>v5_7_2</td><td>v5_7_2</td><td>1</td></tr>\n",
              "<tr><td>7565</td><td>56809</td><td>992</td><td>244.63576</td><td>55.569018</td><td>0.44697136</td><td>4.0150408e-05</td><td>1</td><td>21.267040252685547 .. 18.976333618164062</td><td>0.19349348545074463 .. 0.07201594859361649</td><td>-0.47402819991111755 .. -0.5756321847438812</td><td>-20.01228639574456 .. -22.378177375511406</td><td>3.0442369198156563 .. 0.4348618838984538</td><td>2.859487072264119 .. 0.40888739954282927</td><td>0.6160513546958091 .. 0.08256723693437763</td><td>2.2671201920624386 .. 0.3230953449996806</td><td>3.5196236898095004 .. 0.4936597371489287</td><td>11.145967286036345</td><td>11.11774891388758</td><td>0.09921934107012412</td><td>11.009094496186014</td><td>11.207039518404875</td><td>0.6112856138497591</td><td>0.007680239621549845</td><td>5</td><td>6.485143661499023 .. 2.9485185631819992</td><td>6.081019020101988 .. 2.6131139343636622</td><td>1.722617637560304 .. 1.1462032781926252</td><td>3.8250796794891357 .. 1.6716129984868706</td><td>7.8151750564575195 .. 3.8764077305073728</td><td>4.345233917236328</td><td>4.061525600195588</td><td>2.67389178276062</td><td>5.293456077575684</td><td>-1.1656438112258911</td><td>-1.1322301646708708</td><td>-1.2032406330108643</td><td>-1.0477644205093384</td><td>0</td><td>0</td><td>0</td><td>0</td><td>0</td><td>0</td><td>0</td><td>0</td><td>1152921504606846976</td><td>8517705588384921600</td><td>v5_7_2</td><td>v5_7_2</td><td>1</td></tr>\n",
              "<tr><td>7565</td><td>56809</td><td>993</td><td>244.64234999999996</td><td>55.297392</td><td>0.26433688</td><td>3.7286514e-05</td><td>1</td><td>20.893869400024414 .. 16.436399459838867</td><td>0.24132035672664642 .. 0.01601354591548443</td><td>-2.644157499074936 .. -0.8714586198329926</td><td>-18.650028024332897 .. -23.391269002573864</td><td>219.269587409864 .. 0.741821639264179</td><td>227.65386052962674 .. 1.0219862098796795</td><td>60.737370305616025 .. 0.15407276787849059</td><td>179.288483413663 .. 0.7198857913437515</td><td>281.4832391144828 .. 1.0814153429025006</td><td>11.750613105428744</td><td>11.889403998138317</td><td>0.0659683103888071</td><td>11.736845169099976</td><td>11.914191693737676</td><td>-0.974430151283741</td><td>0.17215773463249207</td><td>5</td><td>5.155111312866211 .. 0.5137184792550692</td><td>8.031325041871085 .. 0.23930498484849913</td><td>2.386823270197504 .. 0.295717876054527</td><td>5.155111312866211 .. 0.08305299020913524</td><td>10.475238800048828 .. 0.7509754838363404</td><td>4.641618728637695</td><td>7.61492631068187</td><td>4.47462272644043</td><td>9.961520195007324</td><td>-3.8194773197174072</td><td>-14.886834769819725</td><td>-33.0</td><td>-3.5530569553375244</td><td>0</td><td>0</td><td>0</td><td>0</td><td>0</td><td>0</td><td>0</td><td>0</td><td>288230376151711744</td><td>8517705863262828544</td><td>v5_7_2</td><td>v5_7_2</td><td>0</td></tr>\n",
              "</table></div>"
            ]
          },
          "metadata": {},
          "execution_count": 9
        }
      ]
    },
    {
      "cell_type": "code",
      "source": [
        "image_data = fits.getdata(image_file, ext=1)\n",
        "print(image_data.shape)\n",
        "plt.figure()\n",
        "plt.imshow(image_data, cmap='gray')\n",
        "plt.colorbar()"
      ],
      "metadata": {
        "id": "r7VI4qH7QqTO"
      },
      "execution_count": null,
      "outputs": []
    }
  ]
}